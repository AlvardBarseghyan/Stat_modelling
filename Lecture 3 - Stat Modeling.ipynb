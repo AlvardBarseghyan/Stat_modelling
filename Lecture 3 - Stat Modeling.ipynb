{
 "cells": [
  {
   "cell_type": "markdown",
   "metadata": {},
   "source": [
    "## Lecture 3"
   ]
  },
  {
   "cell_type": "code",
   "execution_count": null,
   "metadata": {},
   "outputs": [],
   "source": [
    "import numpy as np\n",
    "import matplotlib.pyplot as plt"
   ]
  },
  {
   "cell_type": "code",
   "execution_count": null,
   "metadata": {},
   "outputs": [],
   "source": [
    "def values_from_probs(p0, p1):\n",
    "    u = np.random.uniform(0, 1)\n",
    "    if u < p0: return 0\n",
    "    if u < p0 + p1: return 1\n",
    "    return 2"
   ]
  },
  {
   "cell_type": "code",
   "execution_count": null,
   "metadata": {},
   "outputs": [],
   "source": [
    "class RandomNumberGenerator:\n",
    "    def __init__(self, probabilities, values):\n",
    "        self.probabilities = np.array(probabilities)\n",
    "        self.values = np.array(values)\n",
    "    \n",
    "    def get_value(self):\n",
    "        rand = np.random.uniform(0, sum(self.probabilities))\n",
    "        position = 0\n",
    "        for p, v in zip(self.probabilities, self.values):\n",
    "            position += p\n",
    "            if rand < position:\n",
    "                return p, v\n",
    "            \n",
    "    def expectation(self):\n",
    "        return sum(self.probabilities * self.values) / sum(self.probabilities)\n",
    "    \n",
    "    def dispersion(self):\n",
    "        expectation = self.expectation()\n",
    "        return sum(self.probabilities * (self.values - expectation) ** 2) / sum(self.probabilities)\n",
    "\n"
   ]
  },
  {
   "cell_type": "code",
   "execution_count": null,
   "metadata": {},
   "outputs": [],
   "source": [
    "generator = RandomNumberGenerator([0.3, 0.1, 0.1, 0.5], [4, -7, 6, 5])"
   ]
  },
  {
   "cell_type": "code",
   "execution_count": null,
   "metadata": {
    "scrolled": true
   },
   "outputs": [],
   "source": [
    "generator.get_value()"
   ]
  },
  {
   "cell_type": "code",
   "execution_count": null,
   "metadata": {},
   "outputs": [],
   "source": [
    "[generator.get_value()[1] for _ in range(10)]"
   ]
  },
  {
   "cell_type": "code",
   "execution_count": null,
   "metadata": {},
   "outputs": [],
   "source": [
    "test_values = [generator.get_value()[1] for i in range(10)]"
   ]
  },
  {
   "cell_type": "code",
   "execution_count": null,
   "metadata": {},
   "outputs": [],
   "source": [
    "def get_expectation_from_numbers(numbers):\n",
    "    numbers = np.array(numbers)\n",
    "    return numbers.mean()"
   ]
  },
  {
   "cell_type": "code",
   "execution_count": null,
   "metadata": {},
   "outputs": [],
   "source": [
    "get_expectation_from_numbers(test_values)"
   ]
  },
  {
   "cell_type": "code",
   "execution_count": null,
   "metadata": {
    "scrolled": true
   },
   "outputs": [],
   "source": [
    "generator.expectation()"
   ]
  },
  {
   "cell_type": "code",
   "execution_count": null,
   "metadata": {},
   "outputs": [],
   "source": [
    "expectations = []\n",
    "sampled_point_numbers = range(10, 500, 2)\n",
    "for i in sampled_point_numbers:\n",
    "    values = [generator.get_value()[1] for _ in range(i)]\n",
    "    expect = get_expectation_from_numbers(values)\n",
    "#     print(f\"Expectation calculated with {i:3} numbers:\\t{expect:.3f}\")\n",
    "    expectations.append(expect)"
   ]
  },
  {
   "cell_type": "code",
   "execution_count": null,
   "metadata": {
    "scrolled": true
   },
   "outputs": [],
   "source": [
    "from matplotlib import pyplot as plt\n",
    "\n",
    "expectation_value = generator.expectation()\n",
    "number_of_sampled_points = len(expectations)\n",
    "plt.figure(figsize = (15, 5))\n",
    "plt.xlabel(\"Number of trial values\")\n",
    "plt.ylabel(\"Calculated expectation\")\n",
    "plt.text(number_of_sampled_points / 2, expectation_value * 0.95,'Theoretical Expectation value', color='r', rotation=360)\n",
    "plt.axhline(y=expectation_value, color='r')\n",
    "plt.scatter(sampled_point_numbers, expectations)\n",
    "plt.grid()\n",
    "plt.show()"
   ]
  },
  {
   "cell_type": "code",
   "execution_count": null,
   "metadata": {},
   "outputs": [],
   "source": [
    "def get_dispersion_from_numbers(values):\n",
    "    values = np.array(values)\n",
    "    expectation = get_expectation_from_numbers(values) ## mean\n",
    "    differences = values - expectation\n",
    "    return get_expectation_from_numbers(differences ** 2)\n",
    "    \n",
    "\n",
    "dispersions = []\n",
    "sampled_point_numbers = range(10, 10000, 10)\n",
    "for i in sampled_point_numbers:\n",
    "    values = [generator.get_value()[1] for _ in range(i)]\n",
    "    dispersion = get_dispersion_from_numbers(values)\n",
    "    print(f\"Dispersion calculated with {i:3} numbers:\\t{dispersion:.3f}\")\n",
    "    dispersions.append(dispersion)\n"
   ]
  },
  {
   "cell_type": "code",
   "execution_count": null,
   "metadata": {},
   "outputs": [],
   "source": [
    "from matplotlib import pyplot as plt\n",
    "\n",
    "dispersion_value = generator.dispersion()\n",
    "number_of_sampled_points = len(dispersions)\n",
    "plt.figure(figsize = (15, 6))\n",
    "plt.xlabel(\"Number of trial values\")\n",
    "plt.ylabel(\"Calculated dispersion\")\n",
    "plt.text(number_of_sampled_points / 2, dispersion_value * 0.9,'Theoretical Dispersion value', color='r', rotation=360)\n",
    "plt.axhline(y=dispersion_value, color='r')\n",
    "plt.scatter(sampled_point_numbers, dispersions)\n",
    "plt.grid()\n",
    "plt.show()"
   ]
  },
  {
   "cell_type": "markdown",
   "metadata": {},
   "source": [
    "### Simulation of continuous random variables"
   ]
  },
  {
   "cell_type": "code",
   "execution_count": null,
   "metadata": {},
   "outputs": [],
   "source": [
    "x = np.linspace(0, 1, 10000)\n",
    "fx = 4 * x ** 3\n",
    "Fx = x ** 4\n"
   ]
  },
  {
   "cell_type": "code",
   "execution_count": null,
   "metadata": {},
   "outputs": [],
   "source": [
    "class ContinuousRandomNumberGenerator:\n",
    "    def __init__(self):    \n",
    "#         self.values = np.array(values)\n",
    "        pass    \n",
    "    \n",
    "    def get_value(self, inverse_function, _lambda):\n",
    "        rand = np.random.uniform(0, 1)\n",
    "        return inverse_function(rand, _lambda)"
   ]
  },
  {
   "cell_type": "code",
   "execution_count": null,
   "metadata": {},
   "outputs": [],
   "source": []
  },
  {
   "cell_type": "code",
   "execution_count": null,
   "metadata": {},
   "outputs": [],
   "source": [
    "def function(y, _lambda):  # exponentional distribution\n",
    "    return -np.log(1 - y) / _lambda\n",
    "\n",
    "generator = ContinuousRandomNumberGenerator()\n",
    "values = []\n",
    "for i in np.linspace(0, 1, 10000):\n",
    "#     values.append(generator.get_value(function, 0.25))\n",
    "    rand = np.random.uniform(0, 1)\n",
    "    values.append(function(rand, 0.25))"
   ]
  },
  {
   "cell_type": "code",
   "execution_count": null,
   "metadata": {},
   "outputs": [],
   "source": [
    "plt.hist(values, bins=100)\n",
    "plt.show()"
   ]
  },
  {
   "cell_type": "code",
   "execution_count": null,
   "metadata": {},
   "outputs": [],
   "source": [
    "def function(x):\n",
    "    return x ** (1/4)\n",
    "\n",
    "values = []\n",
    "for i in np.linspace(0, 1, 10000):\n",
    "    rand = np.random.uniform(0, 1)\n",
    "    values.append(function(rand))\n",
    "    \n",
    "plt.hist(values, bins=100)\n",
    "plt.show()"
   ]
  },
  {
   "cell_type": "code",
   "execution_count": null,
   "metadata": {},
   "outputs": [],
   "source": []
  },
  {
   "cell_type": "code",
   "execution_count": null,
   "metadata": {},
   "outputs": [],
   "source": [
    "def genearateNormalDistribution():\n",
    "    \"\"\"z1 = sqrt(-2lnU1)cos(2piU2)\n",
    "    z2 = sqrt(-2lnU1)sin(2piU2)\"\"\"\n",
    "    \n",
    "    u1 = np.random.uniform(0, 1)\n",
    "    u2 = np.random.uniform(0, 1)  \n",
    "    rho = np.sqrt(-2*np.log(u1))\n",
    "    phi = 2*np.pi*u2\n",
    "    z1 = rho * np.cos(phi)\n",
    "    z2 = rho * np.sin(phi)\n",
    "    \n",
    "    return z1, z2"
   ]
  },
  {
   "cell_type": "code",
   "execution_count": null,
   "metadata": {},
   "outputs": [],
   "source": [
    "N = 10000\n",
    "Z1 = np.zeros(N)\n",
    "Z2 = np.zeros(N)\n",
    "\n",
    "for i in range(N):\n",
    "    (Z1[i], Z2[i]) = genearateNormalDistribution()\n",
    "\n",
    "Z1 = 1 + 2 * Z1"
   ]
  },
  {
   "cell_type": "code",
   "execution_count": null,
   "metadata": {},
   "outputs": [],
   "source": [
    "fig, axes = plt.subplots(1,2, figsize=(9, 6))\n",
    "z1_hist = axes[0].hist(Z1, bins=70)\n",
    "# axes[0].set_xlim([-4, 4.5])\n",
    "axes[0].set_title(r\"$Z_1$ Normal Distribution\")\n",
    "z2_hist = axes[1].hist(Z2, bins=70)\n",
    "axes[1].set_title(r\"$Z_2$ Normal Distribution\")\n",
    "plt.tight_layout()\n",
    "plt.show()\n"
   ]
  },
  {
   "cell_type": "code",
   "execution_count": null,
   "metadata": {},
   "outputs": [],
   "source": []
  }
 ],
 "metadata": {
  "kernelspec": {
   "display_name": "Python 3.9.6 ('.venv': venv)",
   "language": "python",
   "name": "python3"
  },
  "language_info": {
   "codemirror_mode": {
    "name": "ipython",
    "version": 3
   },
   "file_extension": ".py",
   "mimetype": "text/x-python",
   "name": "python",
   "nbconvert_exporter": "python",
   "pygments_lexer": "ipython3",
   "version": "3.9.6"
  },
  "vscode": {
   "interpreter": {
    "hash": "3284c8fd21413cad86f2056b27ba5f3971312619f485ae2593944adef4ded3bd"
   }
  }
 },
 "nbformat": 4,
 "nbformat_minor": 2
}
