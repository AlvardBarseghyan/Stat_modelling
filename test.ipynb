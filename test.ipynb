{
 "cells": [
  {
   "cell_type": "code",
   "execution_count": 20,
   "metadata": {},
   "outputs": [],
   "source": [
    "import numpy as np\n",
    "\n",
    "ntrials = 100\n",
    "\n",
    "def numbers(ntrials):\n",
    "  markov_chain = np.zeros(ntrials)\n",
    "  markov_chain[0] = 4\n",
    "  for i in range (ntrials-1):\n",
    "    if np.random.rand() <= 0.5:\n",
    "      if markov_chain[i] == 5:\n",
    "        markov_chain[i+1] = 1\n",
    "      else:\n",
    "        markov_chain[i+1] = markov_chain[i] + 1\n",
    "\n",
    "    else:\n",
    "      if markov_chain[i] == 1:\n",
    "        markov_chain[i+1] = 5\n",
    "      else:\n",
    "        markov_chain[i+1] = markov_chain[i] - 1 \n",
    "  return markov_chain "
   ]
  },
  {
   "cell_type": "code",
   "execution_count": 25,
   "metadata": {},
   "outputs": [
    {
     "data": {
      "text/plain": [
       "array([4., 3., 4., 5., 4., 3., 4., 5., 1., 2., 1., 2., 3., 4., 3., 4., 3.,\n",
       "       4., 5., 1., 5., 1., 2., 3., 4., 5., 4., 5., 1., 5., 1., 5., 1., 5.,\n",
       "       1., 5., 1., 5., 4., 3., 2., 3., 2., 3., 4., 3., 4., 5., 4., 5., 4.,\n",
       "       3., 4., 3., 2., 3., 2., 3., 2., 3., 4., 3., 2., 1., 2., 1., 2., 1.,\n",
       "       5., 4., 5., 4., 3., 2., 3., 4., 3., 4., 5., 4., 3., 4., 5., 1., 2.,\n",
       "       3., 4., 5., 4., 3., 4., 5., 1., 2., 3., 2., 1., 2., 3., 2.])"
      ]
     },
     "execution_count": 25,
     "metadata": {},
     "output_type": "execute_result"
    }
   ],
   "source": [
    "k = numbers(100)\n",
    "k"
   ]
  },
  {
   "cell_type": "code",
   "execution_count": 33,
   "metadata": {},
   "outputs": [],
   "source": [
    "def prob(n):\n",
    "    k = 0\n",
    "    for i in range (100):\n",
    "        m = numbers(100)\n",
    "        if m[-1] == 1:\n",
    "            k += 1\n",
    "    return k/n        \n",
    "\n"
   ]
  },
  {
   "cell_type": "code",
   "execution_count": 37,
   "metadata": {},
   "outputs": [
    {
     "data": {
      "text/plain": [
       "0.21"
      ]
     },
     "execution_count": 37,
     "metadata": {},
     "output_type": "execute_result"
    }
   ],
   "source": [
    "prob(100)"
   ]
  },
  {
   "cell_type": "code",
   "execution_count": null,
   "metadata": {},
   "outputs": [],
   "source": []
  },
  {
   "cell_type": "code",
   "execution_count": null,
   "metadata": {},
   "outputs": [],
   "source": []
  }
 ],
 "metadata": {
  "kernelspec": {
   "display_name": "Python 3.9.6 ('.venv': venv)",
   "language": "python",
   "name": "python3"
  },
  "language_info": {
   "codemirror_mode": {
    "name": "ipython",
    "version": 3
   },
   "file_extension": ".py",
   "mimetype": "text/x-python",
   "name": "python",
   "nbconvert_exporter": "python",
   "pygments_lexer": "ipython3",
   "version": "3.9.6"
  },
  "orig_nbformat": 4,
  "vscode": {
   "interpreter": {
    "hash": "3284c8fd21413cad86f2056b27ba5f3971312619f485ae2593944adef4ded3bd"
   }
  }
 },
 "nbformat": 4,
 "nbformat_minor": 2
}
