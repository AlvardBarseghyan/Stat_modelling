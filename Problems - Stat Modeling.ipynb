{
 "cells": [
  {
   "cell_type": "markdown",
   "metadata": {},
   "source": [
    "## Tasks from interviews"
   ]
  },
  {
   "cell_type": "markdown",
   "metadata": {},
   "source": [
    "think about this kind of tasks\n",
    "\n",
    "[Airbnb - Medium] Say you are given an unfair coin, with an unknown bias towards heads or tails. How can you generate fair odds using this coin?\n",
    "\n",
    "https://www.nicksingh.com/posts/40-probability-statistics-data-science-interview-questions-asked-by-fang-wall-street"
   ]
  },
  {
   "cell_type": "markdown",
   "metadata": {},
   "source": [
    "#### Example 1\n",
    "\n",
    "How can you generate fair odds using a coin with an unknown bias toward heads or tails?\n",
    "\n",
    "5"
   ]
  },
  {
   "cell_type": "code",
   "execution_count": 26,
   "metadata": {},
   "outputs": [],
   "source": [
    "from enum import Enum\n",
    "import numpy as np\n",
    "\n",
    "\n",
    "class CoinToss(Enum):\n",
    "    HEADS = 0\n",
    "    TAILS = 1\n",
    "    \n",
    "    def get_other(self):\n",
    "        return CoinToss(int(not bool(self.value)))\n",
    "\n",
    "\n",
    "class Coin:\n",
    "    def toss(self) -> CoinToss:\n",
    "        raise NotImplemented\n",
    "    \n",
    "\n",
    "class UnfairCoin(Coin):\n",
    "    def __init__(self, head_bias: float):\n",
    "        self.head_bias = head_bias\n",
    "    \n",
    "    def toss(self):\n",
    "        rand = np.random.uniform(0, 1)\n",
    "        \n",
    "        if rand < self.head_bias:\n",
    "            return CoinToss.HEADS\n",
    "        else:\n",
    "            return CoinToss.TAILS\n"
   ]
  },
  {
   "cell_type": "code",
   "execution_count": 27,
   "metadata": {},
   "outputs": [
    {
     "data": {
      "text/plain": [
       "<CoinToss.TAILS: 1>"
      ]
     },
     "execution_count": 27,
     "metadata": {},
     "output_type": "execute_result"
    }
   ],
   "source": [
    "unfair_coin = UnfairCoin(0.3)\n",
    "\n",
    "unfair_coin.toss()"
   ]
  },
  {
   "cell_type": "code",
   "execution_count": 28,
   "metadata": {},
   "outputs": [],
   "source": [
    "class FairCoin:\n",
    "    def __init__(self, unfair_coin: Coin):\n",
    "        self.unfair_coin = unfair_coin\n",
    "        self.iter = 0\n",
    "        \n",
    "    def toss(self):\n",
    "        rand = self.unfair_coin.toss()\n",
    "        \n",
    "        self.iter += 1\n",
    "        if self.iter % 2 == 0:\n",
    "            return rand\n",
    "        else:\n",
    "            return rand.get_other()"
   ]
  },
  {
   "cell_type": "code",
   "execution_count": 29,
   "metadata": {},
   "outputs": [
    {
     "data": {
      "text/plain": [
       "<CoinToss.HEADS: 0>"
      ]
     },
     "execution_count": 29,
     "metadata": {},
     "output_type": "execute_result"
    }
   ],
   "source": [
    "fair_coin = FairCoin(unfair_coin)\n",
    "\n",
    "fair_coin.toss()"
   ]
  },
  {
   "cell_type": "code",
   "execution_count": 30,
   "metadata": {},
   "outputs": [],
   "source": [
    "from typing import List\n",
    "\n",
    "\n",
    "def get_stats(trials: List[Coin]):\n",
    "    return {\n",
    "        CoinToss.HEADS: len([t for t in trials if t is CoinToss.HEADS]) / len(trials),\n",
    "        CoinToss.TAILS: len([t for t in trials if t is CoinToss.TAILS]) / len(trials),\n",
    "    }"
   ]
  },
  {
   "cell_type": "code",
   "execution_count": 31,
   "metadata": {},
   "outputs": [],
   "source": [
    "number_of_trials = 10000\n",
    "unfair_trials = [unfair_coin.toss() for _ in range(number_of_trials)]\n",
    "fair_trials = [fair_coin.toss() for _ in range(number_of_trials)]"
   ]
  },
  {
   "cell_type": "code",
   "execution_count": 32,
   "metadata": {},
   "outputs": [
    {
     "name": "stdout",
     "output_type": "stream",
     "text": [
      "Stats for unfair tosses: {<CoinToss.HEADS: 0>: 0.3082, <CoinToss.TAILS: 1>: 0.6918}\n"
     ]
    }
   ],
   "source": [
    "print(\"Stats for unfair tosses:\", get_stats(unfair_trials))"
   ]
  },
  {
   "cell_type": "code",
   "execution_count": 33,
   "metadata": {},
   "outputs": [
    {
     "name": "stdout",
     "output_type": "stream",
     "text": [
      "Stats for fair tosses: {<CoinToss.HEADS: 0>: 0.4948, <CoinToss.TAILS: 1>: 0.5052}\n"
     ]
    }
   ],
   "source": [
    "print(\"Stats for fair tosses:\", get_stats(fair_trials))"
   ]
  },
  {
   "cell_type": "code",
   "execution_count": null,
   "metadata": {},
   "outputs": [],
   "source": []
  },
  {
   "cell_type": "markdown",
   "metadata": {},
   "source": [
    "## Example 2\n",
    "\n",
    "How many cards would you expect to draw from a standard deck of cards before seeing your first queen?\n",
    "\n",
    "2"
   ]
  },
  {
   "cell_type": "code",
   "execution_count": null,
   "metadata": {},
   "outputs": [],
   "source": []
  },
  {
   "cell_type": "code",
   "execution_count": null,
   "metadata": {},
   "outputs": [],
   "source": []
  },
  {
   "cell_type": "markdown",
   "metadata": {},
   "source": [
    "#### Example 3\n",
    "\n",
    "If there are 25 cards with five different colors and each card has a number from one to five, what’s the probability they aren’t the same color if you pick two cards at random?"
   ]
  },
  {
   "cell_type": "code",
   "execution_count": null,
   "metadata": {},
   "outputs": [],
   "source": []
  },
  {
   "cell_type": "code",
   "execution_count": null,
   "metadata": {},
   "outputs": [],
   "source": []
  },
  {
   "cell_type": "markdown",
   "metadata": {},
   "source": [
    "#### Example 4\n",
    "\n",
    "An online dating service allows users to choose six out of 30 words to describe their personality. The dating service creates a match based on five of the same words. If client A and client B both choose random personality words, what’s the probability they can find a match?\n"
   ]
  },
  {
   "cell_type": "code",
   "execution_count": null,
   "metadata": {},
   "outputs": [],
   "source": []
  },
  {
   "cell_type": "code",
   "execution_count": null,
   "metadata": {},
   "outputs": [],
   "source": []
  },
  {
   "cell_type": "markdown",
   "metadata": {},
   "source": [
    "#### Example 5\n",
    "\n",
    "Given a mother who's very tall, on average, what could you expect the height of her daughter to be? Shorter, equal or taller?"
   ]
  },
  {
   "cell_type": "code",
   "execution_count": null,
   "metadata": {},
   "outputs": [],
   "source": []
  },
  {
   "cell_type": "code",
   "execution_count": null,
   "metadata": {},
   "outputs": [],
   "source": []
  },
  {
   "cell_type": "markdown",
   "metadata": {},
   "source": [
    "#### Example 6\n",
    "\n",
    "How many possible ways can you split 12 people into three teams of four?"
   ]
  },
  {
   "cell_type": "code",
   "execution_count": null,
   "metadata": {},
   "outputs": [],
   "source": []
  },
  {
   "cell_type": "code",
   "execution_count": null,
   "metadata": {},
   "outputs": [],
   "source": []
  },
  {
   "cell_type": "markdown",
   "metadata": {},
   "source": [
    "#### Example 7\n",
    "\n",
    "If three friends in London told you it's raining, and there is a 1/3 probability that each person is lying, what’s the probability that it's raining in London? The probability of rain on any day in London is 0.25."
   ]
  },
  {
   "cell_type": "code",
   "execution_count": null,
   "metadata": {},
   "outputs": [],
   "source": []
  },
  {
   "cell_type": "code",
   "execution_count": null,
   "metadata": {},
   "outputs": [],
   "source": []
  },
  {
   "cell_type": "markdown",
   "metadata": {},
   "source": [
    "## Example 8\n",
    "\n",
    "If you picked randomly from a fair coin (one side heads, one side tails) or an unfair coin (both sides tails), flipped it five times and got tails five times, what’s the chance you picked the unfair coin?\n",
    "\n",
    "###### Solution\n",
    "\n",
    "First, separate it into two instances. One would be if you grabbed the fair coin, and the second would be for the biased coin. Then, solve the probability of flipping the same side for both. Then, you would account for the probabilities of flipping heads both times and the probability of flipping tails both times. Finally, you would need to account for the probability of selecting the fair or biased coin.\n",
    "\n"
   ]
  },
  {
   "cell_type": "code",
   "execution_count": null,
   "metadata": {},
   "outputs": [],
   "source": []
  },
  {
   "cell_type": "code",
   "execution_count": null,
   "metadata": {},
   "outputs": [],
   "source": []
  },
  {
   "cell_type": "markdown",
   "metadata": {},
   "source": [
    "#### Example 9\n",
    "\n",
    "A jar holds five lollipops: three red and two yellow. If you remove and replace three lollipops after every draw, find the probability of drawing the same color lollipop twice."
   ]
  },
  {
   "cell_type": "code",
   "execution_count": null,
   "metadata": {},
   "outputs": [],
   "source": []
  },
  {
   "cell_type": "code",
   "execution_count": null,
   "metadata": {},
   "outputs": [],
   "source": []
  },
  {
   "cell_type": "markdown",
   "metadata": {},
   "source": [
    "#### Example 10\n",
    "\n",
    "If there’s a 15% probability that you might see at least one airplane in a five-minute interval, what is the probability that you might see at least one airplane in a period of half an hour?"
   ]
  },
  {
   "cell_type": "code",
   "execution_count": null,
   "metadata": {},
   "outputs": [],
   "source": []
  },
  {
   "cell_type": "code",
   "execution_count": null,
   "metadata": {},
   "outputs": [],
   "source": []
  },
  {
   "cell_type": "markdown",
   "metadata": {},
   "source": [
    "#### Example 11\n",
    "\n",
    "You roll two dice. What’s the probability of rolling at least one 3? What’s the probability of rolling a 3 given N dice?\n",
    "\n",
    "https://www.interviewquery.com/questions/n-die"
   ]
  },
  {
   "cell_type": "code",
   "execution_count": null,
   "metadata": {},
   "outputs": [],
   "source": []
  },
  {
   "cell_type": "code",
   "execution_count": null,
   "metadata": {},
   "outputs": [],
   "source": []
  },
  {
   "cell_type": "markdown",
   "metadata": {},
   "source": [
    "#### Example 12\n",
    "\n",
    "3 persons A, B, C independently fire at a target. What is the probability that (i) Exactly one of them hits the target, (ii) At least one of them hits the target? Given: Probability of hitting the target. P(A) = 1/6, P(B) = 1/4, P(C) = 1/3.\n"
   ]
  },
  {
   "cell_type": "code",
   "execution_count": null,
   "metadata": {},
   "outputs": [],
   "source": []
  },
  {
   "cell_type": "code",
   "execution_count": null,
   "metadata": {},
   "outputs": [],
   "source": []
  },
  {
   "cell_type": "markdown",
   "metadata": {},
   "source": [
    "#### Example 13\n",
    "\n",
    "What is the probability that a seven-game series goes to 7 games? (Google easy)"
   ]
  },
  {
   "cell_type": "markdown",
   "metadata": {},
   "source": [
    "#### Example 14\n",
    "\n",
    "\n",
    "[Facebook - Easy] There are 50 cards of 5 different colors. Each color has cards numbered between 1 to 10. You pick 2 cards at random. What is the probability that they are not of same color and also not of same number?"
   ]
  },
  {
   "cell_type": "markdown",
   "metadata": {},
   "source": [
    "#### Example 15\n",
    "\n",
    "[Tesla - Easy] A fair six-sided die is rolled twice. What is the probability of getting 1 on the first roll and not getting 6 on the second roll?"
   ]
  },
  {
   "cell_type": "markdown",
   "metadata": {},
   "source": [
    "## Example 16\n",
    "\n",
    "[Facebook - Easy] What is the expected number of rolls needed to see all 6 sides of a fair die?"
   ]
  },
  {
   "cell_type": "markdown",
   "metadata": {},
   "source": [
    "## Example 17\n",
    "\n",
    "[Uber - Easy] Say you roll three dice, one by one. What is the probability that you obtain 3 numbers in a strictly increasing order?"
   ]
  },
  {
   "cell_type": "markdown",
   "metadata": {},
   "source": [
    "#### Example 18\n",
    "\n",
    "[Two Sigma - Medium] What is the expected number of coin flips needed to get two consecutive heads?"
   ]
  },
  {
   "cell_type": "markdown",
   "metadata": {},
   "source": [
    "### Example 19\n",
    "\n",
    "[Amazon - Medium] How many cards would you expect to draw from a standard deck before seeing the first ace?"
   ]
  },
  {
   "cell_type": "markdown",
   "metadata": {},
   "source": [
    "### Example 20\n",
    "\n",
    "[Robinhood - Medium] A and B are playing a game where A has n+1 coins, B has n coins, and they each flip all of their coins. What is the probability that A will have more heads than B?"
   ]
  },
  {
   "cell_type": "markdown",
   "metadata": {},
   "source": [
    "#### Example 21\n",
    "\n",
    "[Spotify - Hard] A fair die is rolled n times. What is the probability that the largest number rolled is r, for each r in 1..6?"
   ]
  },
  {
   "cell_type": "markdown",
   "metadata": {},
   "source": [
    "#### Example 22\n",
    "\n",
    "What is the probability of getting a sum of 9 when two dice are thrown?\n",
    "\n",
    "There is a total of 36 possibilities when we throw two dice.\n",
    "To get the desired outcome i.e., 9, we can have the following favorable outcomes.\n",
    "(4,5),(5,4),(6,3)(3,6). There are 4 favorable outcomes.\n",
    "Probability of an event P(E) = (Number of favorable outcomes) ÷ (Total outcomes in a sample space)\n",
    "Probability of getting number 9 = 4 ÷ 36 = 1/9\n",
    "\n",
    "Answer: Therefore the probability of getting a sum of 9 is 1/9."
   ]
  },
  {
   "cell_type": "markdown",
   "metadata": {},
   "source": [
    "#### Example "
   ]
  },
  {
   "cell_type": "markdown",
   "metadata": {},
   "source": [
    "#### Example "
   ]
  },
  {
   "cell_type": "markdown",
   "metadata": {},
   "source": [
    "#### Example "
   ]
  },
  {
   "cell_type": "markdown",
   "metadata": {},
   "source": [
    "#### Example "
   ]
  },
  {
   "cell_type": "code",
   "execution_count": null,
   "metadata": {},
   "outputs": [],
   "source": []
  }
 ],
 "metadata": {
  "kernelspec": {
   "display_name": "Python 3",
   "language": "python",
   "name": "python3"
  },
  "language_info": {
   "codemirror_mode": {
    "name": "ipython",
    "version": 3
   },
   "file_extension": ".py",
   "mimetype": "text/x-python",
   "name": "python",
   "nbconvert_exporter": "python",
   "pygments_lexer": "ipython3",
   "version": "3.6.8"
  }
 },
 "nbformat": 4,
 "nbformat_minor": 2
}
