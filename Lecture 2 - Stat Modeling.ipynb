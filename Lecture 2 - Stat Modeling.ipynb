{
 "cells": [
  {
   "cell_type": "markdown",
   "metadata": {},
   "source": [
    "# Lecture 2\n",
    "\n",
    "## Simulation of discrete random variables"
   ]
  },
  {
   "cell_type": "markdown",
   "metadata": {},
   "source": [
    "### Task 1 \n",
    "\n",
    "Suppose a weighted coin comes up heads with probability 1/3. How many flips do you think it will take for the first head to appear? "
   ]
  },
  {
   "cell_type": "code",
   "execution_count": null,
   "metadata": {},
   "outputs": [],
   "source": [
    "import math\n",
    "import numpy as np\n",
    "import matplotlib.pyplot as plt"
   ]
  },
  {
   "cell_type": "code",
   "execution_count": null,
   "metadata": {},
   "outputs": [],
   "source": [
    "def sim_one_game(p) -> int:\n",
    "    \"\"\"Simulate, how long it took to get heads ONCE\"\"\"\n",
    "    flips = 0\n",
    "    while True:\n",
    "        flips += 1\n",
    "        if np.random.rand() < p: # if Heads\n",
    "            return flips"
   ]
  },
  {
   "cell_type": "markdown",
   "metadata": {},
   "source": [
    "Repeat this function many times and take the average of your samples!"
   ]
  },
  {
   "cell_type": "code",
   "execution_count": null,
   "metadata": {},
   "outputs": [],
   "source": [
    "def coin_flip(p, n_trials=500000) -> float:\n",
    "    \n",
    "    def sim_one_game() -> int: # internal helper function ## returns integer\n",
    "        flips = 0\n",
    "        while True:\n",
    "            flips += 1\n",
    "            if np.random.rand() < p: # if Heads\n",
    "                return flips\n",
    "            \n",
    "    total_flips = 0\n",
    "    for i in range(n_trials):\n",
    "        total_flips += sim_one_game()\n",
    "        \n",
    "    return total_flips / n_trials\n",
    "\n",
    "print(coin_flip(p=1/5))"
   ]
  },
  {
   "cell_type": "code",
   "execution_count": null,
   "metadata": {},
   "outputs": [],
   "source": [
    "def one_game(arr):\n",
    "    np.random.shuffle(arr)\n",
    "#     print(arr)\n",
    "    if arr[12] == 13:\n",
    "        return 1\n",
    "\n",
    "arr = list(range(1, 101))\n",
    "total = 0\n",
    "for i in range(500000):\n",
    "    if one_game(arr):\n",
    "        total += 1\n",
    "        \n",
    "        \n",
    "total / 500000"
   ]
  },
  {
   "cell_type": "markdown",
   "metadata": {},
   "source": [
    "### Task 2\n",
    "\n",
    "Suppose we randomly shuffle an array of the first 100 integers in order: [1, 2, ..., 100]. What is the probability, that exactly 5 end up in their original position? Use code to estimate this probability! \n",
    "\n",
    "Hint: use np.random.shuffle to shaffle an array"
   ]
  },
  {
   "cell_type": "code",
   "execution_count": null,
   "metadata": {},
   "outputs": [],
   "source": [
    "def prob_13_original(n_trials=50000) -> float:\n",
    "    \n",
    "    def sim_one_shuffle() -> int:\n",
    "        arr = np.arange(1, 101) # Creates array: [1, 2, ..., 100]\n",
    "        np.random.shuffle(arr)\n",
    "        \n",
    "        num_orig = 0 # count how many elements are in original position\n",
    "        for i in range(1, 101):\n",
    "            if arr[i-1] == i:\n",
    "                num_orig += 1\n",
    "                \n",
    "        return int(num_orig >= 5) # returns 1 if True, 0 if False\n",
    "    \n",
    "    num_succ = 0 # Count how many times exactly 13 were in origial positions\n",
    "    for i in range(n_trials):\n",
    "        num_succ += sim_one_shuffle()\n",
    "        \n",
    "    return num_succ / n_trials\n",
    "\n",
    "print(prob_13_original(100000))"
   ]
  },
  {
   "cell_type": "code",
   "execution_count": null,
   "metadata": {},
   "outputs": [],
   "source": [
    "res = []\n",
    "\n",
    "for i in range(20):\n",
    "    res.append(prob_13_original())"
   ]
  },
  {
   "cell_type": "code",
   "execution_count": null,
   "metadata": {},
   "outputs": [],
   "source": [
    "res"
   ]
  },
  {
   "cell_type": "code",
   "execution_count": null,
   "metadata": {},
   "outputs": [],
   "source": [
    "np.mean(res)"
   ]
  },
  {
   "cell_type": "code",
   "execution_count": null,
   "metadata": {},
   "outputs": [],
   "source": [
    "def values_from_probs(p0, p1):\n",
    "    u = np.random.uniform(0, 1)\n",
    "    if u < p0: return 0\n",
    "    if u < p0 + p1: return 1\n",
    "    return 2"
   ]
  },
  {
   "cell_type": "code",
   "execution_count": null,
   "metadata": {},
   "outputs": [],
   "source": [
    "# define the function for n p_i\n",
    "def values_from_probs():\n",
    "    pass"
   ]
  },
  {
   "cell_type": "markdown",
   "metadata": {},
   "source": [
    "## Poisson random variable\n",
    "\n",
    "$$\n",
    "P(\\nu = i) = \\frac{\\lambda_i}{i!} e^{-\\lambda}\n",
    "$$\n",
    "$$\n",
    "P(\\nu <= i) = \\sum_{n=0}^{i}\\frac{\\lambda^n}{n!}e^{-\\lambda}\n",
    "$$\n"
   ]
  },
  {
   "cell_type": "code",
   "execution_count": null,
   "metadata": {},
   "outputs": [],
   "source": [
    "def poisson(_lambda):\n",
    "    pi_0, n, u = np.exp(-_lambda), 0, np.random.uniform(0, 1)\n",
    "    pi_i, fact, power = pi_0, 1, 1\n",
    "    while u > pi_i:\n",
    "        n += 1\n",
    "        fact, power = n*fact, _lambda*power\n",
    "        pi_i += (power / fact) * pi_0\n",
    "        \n",
    "    return n"
   ]
  },
  {
   "cell_type": "code",
   "execution_count": null,
   "metadata": {},
   "outputs": [],
   "source": [
    "s_poiss = []\n",
    "for i in range(10000):\n",
    "    s_poiss.append(poisson(500))"
   ]
  },
  {
   "cell_type": "code",
   "execution_count": null,
   "metadata": {},
   "outputs": [],
   "source": [
    "s = np.random.poisson(50000, 10000)"
   ]
  },
  {
   "cell_type": "code",
   "execution_count": null,
   "metadata": {},
   "outputs": [],
   "source": [
    "plt.hist(s, 50, density=True)\n",
    "plt.show()"
   ]
  },
  {
   "cell_type": "code",
   "execution_count": null,
   "metadata": {},
   "outputs": [],
   "source": [
    "plt.hist(s_poiss, 50, density=True)\n",
    "plt.show()"
   ]
  },
  {
   "cell_type": "code",
   "execution_count": null,
   "metadata": {},
   "outputs": [],
   "source": [
    "def negative_binomial(alpha, p):\n",
    "    a = 0\n",
    "    b = 0\n",
    "    u = np.random.uniform(0, 1)\n",
    "    while b < alpha:\n",
    "        if u < p:\n",
    "            a, b, u = a+1, b+1, np.random.uniform(0, 1)\n",
    "        else: a, u = a+1, np.random.uniform(0, 1)\n",
    "            \n",
    "    if b == alpha: return a\n"
   ]
  },
  {
   "cell_type": "code",
   "execution_count": null,
   "metadata": {},
   "outputs": [],
   "source": [
    "nb_custom = []\n",
    "for i in range(50000):\n",
    "    nb_custom.append(negative_binomial(5, 0.1))\n",
    "    \n",
    "plt.hist(nb_custom, 50, density=True)\n",
    "plt.show()"
   ]
  },
  {
   "cell_type": "code",
   "execution_count": null,
   "metadata": {},
   "outputs": [],
   "source": [
    "nb = np.random.negative_binomial(5, 0.1, 50000)\n",
    "\n",
    "plt.hist(nb, 50, density=True)\n",
    "plt.show()"
   ]
  },
  {
   "cell_type": "markdown",
   "metadata": {},
   "source": [
    "### Task 3\n",
    "\n",
    "A coin is tossted repeatedly until head comes up for the sixth time.\n",
    "\n",
    "What is the probability this happens on the 15th toss?\n",
    "\n",
    "Calculate this probability using the negative binomial distrbution."
   ]
  },
  {
   "cell_type": "code",
   "execution_count": null,
   "metadata": {},
   "outputs": [],
   "source": [
    "def coin_flip(p, n_trials=5000000) -> float:\n",
    "    \n",
    "    def sim_one_game() -> int: # internal helper function ## returns integer\n",
    "        flips = 0\n",
    "        head_count = 0\n",
    "        while True:\n",
    "            flips += 1\n",
    "            if np.random.rand() < p: # if Heads\n",
    "                head_count += 1\n",
    "            if head_count == 6:\n",
    "                return flips\n",
    "            \n",
    "    total_flips = 0\n",
    "    for i in range(n_trials):\n",
    "        if sim_one_game() == 15:\n",
    "            total_flips += 1\n",
    "    \n",
    "#     print(f\"how many time the event happens on the 15th toss: {total_flips}\")\n",
    "    return total_flips / n_trials\n",
    "\n",
    "# print(coin_flip(p=1/2))"
   ]
  },
  {
   "cell_type": "code",
   "execution_count": null,
   "metadata": {},
   "outputs": [],
   "source": [
    "res = []\n",
    "for i in range(1, 500000, 1000):\n",
    "    res.append(coin_flip(p=1/2, n_trials=i))\n",
    "    \n",
    "plt.plot(res, range(1, 500000, 1000), 'b')\n",
    "plt.show()"
   ]
  },
  {
   "cell_type": "code",
   "execution_count": null,
   "metadata": {},
   "outputs": [],
   "source": [
    "\n",
    "math.factorial(14) / (math.factorial(5) * math.factorial(9)) * (1/2)**15"
   ]
  },
  {
   "cell_type": "code",
   "execution_count": null,
   "metadata": {},
   "outputs": [],
   "source": []
  },
  {
   "cell_type": "code",
   "execution_count": null,
   "metadata": {},
   "outputs": [],
   "source": []
  },
  {
   "cell_type": "code",
   "execution_count": null,
   "metadata": {},
   "outputs": [],
   "source": []
  },
  {
   "cell_type": "code",
   "execution_count": null,
   "metadata": {},
   "outputs": [],
   "source": []
  },
  {
   "cell_type": "code",
   "execution_count": null,
   "metadata": {},
   "outputs": [],
   "source": [
    "from scipy.stats import maxwell\n",
    "\n",
    "mean, var, skew, kurt = maxwell.stats(moments='mvsk')"
   ]
  },
  {
   "cell_type": "code",
   "execution_count": null,
   "metadata": {},
   "outputs": [],
   "source": [
    "x = np.linspace(maxwell.ppf(0.01),\n",
    "            maxwell.ppf(0.99), 100)\n",
    "plt.plot(x, maxwell.pdf(x))\n",
    "plt.show()"
   ]
  },
  {
   "cell_type": "code",
   "execution_count": null,
   "metadata": {},
   "outputs": [],
   "source": []
  },
  {
   "cell_type": "code",
   "execution_count": null,
   "metadata": {},
   "outputs": [],
   "source": []
  },
  {
   "cell_type": "code",
   "execution_count": null,
   "metadata": {},
   "outputs": [],
   "source": []
  },
  {
   "cell_type": "code",
   "execution_count": null,
   "metadata": {},
   "outputs": [],
   "source": []
  },
  {
   "cell_type": "code",
   "execution_count": null,
   "metadata": {},
   "outputs": [],
   "source": []
  },
  {
   "cell_type": "markdown",
   "metadata": {},
   "source": [
    "The geometric distribution is the distribution of the number of trials needed to get the first success in repeated independent Bernoulli trials.\n",
    "\n",
    "The negative binomial distribution is the distribution of the number of trials needed to get the rth succes\n",
    "\n",
    "The binomial distribution is the distribution of the number of successes in a fixed number of independent Bernoulli trials.\n",
    "\n",
    "the negative binomial distribution is the distribution of number of trials needed to get a fixed number of succeses."
   ]
  }
 ],
 "metadata": {
  "kernelspec": {
   "display_name": "Python 3",
   "language": "python",
   "name": "python3"
  },
  "language_info": {
   "codemirror_mode": {
    "name": "ipython",
    "version": 3
   },
   "file_extension": ".py",
   "mimetype": "text/x-python",
   "name": "python",
   "nbconvert_exporter": "python",
   "pygments_lexer": "ipython3",
   "version": "3.6.8"
  }
 },
 "nbformat": 4,
 "nbformat_minor": 2
}
