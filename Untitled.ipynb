{
 "cells": [
  {
   "cell_type": "code",
   "execution_count": 5,
   "id": "a9049f9b",
   "metadata": {},
   "outputs": [],
   "source": [
    "import numpy as np\n",
    "from sklearn import metrics"
   ]
  },
  {
   "cell_type": "code",
   "execution_count": 6,
   "id": "36cdd347",
   "metadata": {},
   "outputs": [],
   "source": [
    "n = 500000\n",
    "\n",
    "actual = np.random.choice([1, 0], n, [0.7, 0.3])\n",
    "pred = np.array(list(actual))"
   ]
  },
  {
   "cell_type": "code",
   "execution_count": 7,
   "id": "487da233",
   "metadata": {},
   "outputs": [
    {
     "data": {
      "text/plain": [
       "array([216717,  59019, 377112, ..., 181731, 359942, 206676])"
      ]
     },
     "execution_count": 7,
     "metadata": {},
     "output_type": "execute_result"
    }
   ],
   "source": [
    "np.random.randint(0, n, 100000)"
   ]
  },
  {
   "cell_type": "code",
   "execution_count": 8,
   "id": "349db0ce",
   "metadata": {},
   "outputs": [],
   "source": [
    "indecies = np.random.randint(0, n, 100000)\n",
    "pred[indecies] = 0"
   ]
  },
  {
   "cell_type": "code",
   "execution_count": 9,
   "id": "cda21f7f",
   "metadata": {},
   "outputs": [],
   "source": [
    "tp = np.sum(np.logical_and(pred == 1, actual == 1))\n",
    "fp = np.sum(np.logical_and(pred == 1, actual == 0))\n",
    "tn = np.sum(np.logical_and(pred == 0, actual == 0))\n",
    "fn = np.sum(np.logical_and(pred == 0, actual == 1))"
   ]
  },
  {
   "cell_type": "code",
   "execution_count": 10,
   "id": "9f068593",
   "metadata": {},
   "outputs": [
    {
     "data": {
      "text/plain": [
       "(203967, 0, 250775, 45258)"
      ]
     },
     "execution_count": 10,
     "metadata": {},
     "output_type": "execute_result"
    }
   ],
   "source": [
    "tp, fp, tn, fn"
   ]
  },
  {
   "cell_type": "code",
   "execution_count": 13,
   "id": "e3590524",
   "metadata": {},
   "outputs": [
    {
     "data": {
      "text/plain": [
       "203967"
      ]
     },
     "execution_count": 13,
     "metadata": {},
     "output_type": "execute_result"
    }
   ],
   "source": [
    "tp + fp"
   ]
  },
  {
   "cell_type": "code",
   "execution_count": 11,
   "id": "da1f5073",
   "metadata": {},
   "outputs": [
    {
     "data": {
      "text/plain": [
       "(1.0, 0.818405055672585, array([0.909484]))"
      ]
     },
     "execution_count": 11,
     "metadata": {},
     "output_type": "execute_result"
    }
   ],
   "source": [
    "precision = tp / (tp + fp)\n",
    "recal = tp / (tp + fn)\n",
    "accuracy = (actual == pred).sum() / actual.shape\n",
    "\n",
    "precision, recal, accuracy"
   ]
  },
  {
   "cell_type": "code",
   "execution_count": 12,
   "id": "0fb83e7c",
   "metadata": {},
   "outputs": [
    {
     "data": {
      "text/plain": [
       "0.9092025278362925"
      ]
     },
     "execution_count": 12,
     "metadata": {},
     "output_type": "execute_result"
    }
   ],
   "source": [
    "auc = metrics.roc_auc_score(actual, pred)\n",
    "auc"
   ]
  },
  {
   "cell_type": "code",
   "execution_count": 61,
   "id": "1a04e7c5",
   "metadata": {},
   "outputs": [
    {
     "data": {
      "text/plain": [
       "array([0.99999])"
      ]
     },
     "execution_count": 61,
     "metadata": {},
     "output_type": "execute_result"
    }
   ],
   "source": [
    "accuracy"
   ]
  },
  {
   "cell_type": "code",
   "execution_count": 34,
   "id": "f6b69c2d",
   "metadata": {},
   "outputs": [
    {
     "data": {
      "text/plain": [
       "3.0335423543219973"
      ]
     },
     "execution_count": 34,
     "metadata": {},
     "output_type": "execute_result"
    }
   ],
   "source": [
    "import numpy as np\n",
    "\n",
    "t = []\n",
    "\n",
    "for i in range(1000000):\n",
    "    theta = np.random.uniform(2, 5.1)\n",
    "    x = np.random.uniform(0, theta)\n",
    "    if 3.99 <= x <= 4.01:\n",
    "        t.append(theta)\n",
    "        \n",
    "theta"
   ]
  },
  {
   "cell_type": "code",
   "execution_count": null,
   "id": "0212c398",
   "metadata": {},
   "outputs": [],
   "source": []
  },
  {
   "cell_type": "code",
   "execution_count": 35,
   "id": "946a235e",
   "metadata": {},
   "outputs": [
    {
     "data": {
      "text/plain": [
       "4.5168016229738885"
      ]
     },
     "execution_count": 35,
     "metadata": {},
     "output_type": "execute_result"
    }
   ],
   "source": [
    "t = np.array(t)\n",
    "t.mean()\n"
   ]
  },
  {
   "cell_type": "code",
   "execution_count": 36,
   "id": "2732406d",
   "metadata": {},
   "outputs": [
    {
     "data": {
      "text/plain": [
       "4.50940666539463"
      ]
     },
     "execution_count": 36,
     "metadata": {},
     "output_type": "execute_result"
    }
   ],
   "source": [
    "t = sorted(t)\n",
    "t[len(t) // 2]"
   ]
  },
  {
   "cell_type": "code",
   "execution_count": null,
   "id": "d594b1e0",
   "metadata": {},
   "outputs": [],
   "source": []
  },
  {
   "cell_type": "code",
   "execution_count": 15,
   "id": "7bb44e49",
   "metadata": {},
   "outputs": [],
   "source": [
    "t = np.array(t)\n",
    "t = "
   ]
  },
  {
   "cell_type": "code",
   "execution_count": 54,
   "id": "629bdb08",
   "metadata": {},
   "outputs": [
    {
     "data": {
      "text/plain": [
       "0.0"
      ]
     },
     "execution_count": 54,
     "metadata": {},
     "output_type": "execute_result"
    }
   ],
   "source": [
    "theta = np.random.uniform(4, 5.1, 100000)\n",
    "x = np.array([np.random.uniform(0, t) for t in theta])\n",
    "\n",
    "x[x==4].sum()\n"
   ]
  },
  {
   "cell_type": "code",
   "execution_count": 59,
   "id": "a3977936",
   "metadata": {},
   "outputs": [
    {
     "data": {
      "text/plain": [
       "array([4.24492295, 4.82388179, 4.46476066, ..., 4.54266826, 4.54102773,\n",
       "       4.08958794])"
      ]
     },
     "execution_count": 59,
     "metadata": {},
     "output_type": "execute_result"
    }
   ],
   "source": [
    "theta"
   ]
  },
  {
   "cell_type": "code",
   "execution_count": 104,
   "id": "24e78f76",
   "metadata": {},
   "outputs": [],
   "source": [
    "res = []\n",
    "for _ in range(10000):    \n",
    "    theta = np.random.uniform(4, 5, 1000000)\n",
    "    p = 1 / (theta * np.log(5/4))\n",
    "    u2 = np.random.uniform(0, max(p), size=1000000)\n",
    "    ind = np.where(u2  <= p / p.max())\n",
    "    t = u2[ind]\n",
    "    res.append((t + 4)[len(t) // 2])\n",
    "# p.sort()\n",
    "# p[p.shape[0] // 2]"
   ]
  },
  {
   "cell_type": "code",
   "execution_count": 106,
   "id": "508801da",
   "metadata": {},
   "outputs": [
    {
     "data": {
      "text/plain": [
       "2.964024617869237"
      ]
     },
     "execution_count": 106,
     "metadata": {},
     "output_type": "execute_result"
    }
   ],
   "source": [
    "np.random.normal(3,0.5)"
   ]
  },
  {
   "cell_type": "code",
   "execution_count": null,
   "id": "46df3c8b",
   "metadata": {},
   "outputs": [],
   "source": [
    "res = np.array(res)\n",
    "res.mean(), res.std()"
   ]
  },
  {
   "cell_type": "code",
   "execution_count": 103,
   "id": "ce472b63",
   "metadata": {},
   "outputs": [
    {
     "data": {
      "text/plain": [
       "4.031380237943767"
      ]
     },
     "execution_count": 103,
     "metadata": {},
     "output_type": "execute_result"
    }
   ],
   "source": [
    "t = u2[ind]\n",
    "(t + 4)[len(t) // 2]"
   ]
  },
  {
   "cell_type": "code",
   "execution_count": 93,
   "id": "20dc98b7",
   "metadata": {},
   "outputs": [
    {
     "data": {
      "image/png": "[encoded data removed]",
      "text/plain": [
       "<Figure size 640x480 with 1 Axes>"
      ]
     },
     "metadata": {},
     "output_type": "display_data"
    }
   ],
   "source": [
    "plt.hist(u2[ind], bins=100, density=True);"
   ]
  },
  {
   "cell_type": "code",
   "execution_count": 95,
   "id": "cac2db81",
   "metadata": {},
   "outputs": [
    {
     "data": {
      "text/plain": [
       "array([4.90469252, 4.52634763, 4.96495281, ..., 4.96107079, 4.76258137,\n",
       "       4.20529319])"
      ]
     },
     "execution_count": 95,
     "metadata": {},
     "output_type": "execute_result"
    }
   ],
   "source": [
    "import scipy.stats as st\n",
    "r = st.reciprocal.rvs(4, 5, size=100000)\n",
    "r\n",
    "# st.median(x)"
   ]
  },
  {
   "cell_type": "code",
   "execution_count": 96,
   "id": "15c9c47c",
   "metadata": {},
   "outputs": [
    {
     "data": {
      "text/plain": [
       "4.47213595499958"
      ]
     },
     "execution_count": 96,
     "metadata": {},
     "output_type": "execute_result"
    }
   ],
   "source": [
    "2 * 5 ** 0.5"
   ]
  },
  {
   "cell_type": "code",
   "execution_count": 97,
   "id": "9e3ada6c",
   "metadata": {},
   "outputs": [
    {
     "data": {
      "image/png": "[encoded data removed]",
      "text/plain": [
       "<Figure size 640x480 with 1 Axes>"
      ]
     },
     "metadata": {},
     "output_type": "display_data"
    }
   ],
   "source": [
    "y = st.reciprocal.pdf(x, 4, 5)\n",
    "plt.plot(x, y);"
   ]
  },
  {
   "cell_type": "code",
   "execution_count": 98,
   "id": "40674c6f",
   "metadata": {},
   "outputs": [
    {
     "data": {
      "text/plain": [
       "4.8964171322164285"
      ]
     },
     "execution_count": 98,
     "metadata": {},
     "output_type": "execute_result"
    }
   ],
   "source": [
    "r[len(r) // 2]"
   ]
  },
  {
   "cell_type": "code",
   "execution_count": 99,
   "id": "ea34de95",
   "metadata": {},
   "outputs": [
    {
     "data": {
      "image/png": "[encoded data removed]",
      "text/plain": [
       "<Figure size 640x480 with 1 Axes>"
      ]
     },
     "metadata": {},
     "output_type": "display_data"
    }
   ],
   "source": [
    "plt.scatter(theta[ind], u2[ind])\n",
    "plt.plot(x, y)\n",
    "plt.show()"
   ]
  },
  {
   "cell_type": "code",
   "execution_count": 71,
   "id": "4e864f1a",
   "metadata": {},
   "outputs": [
    {
     "data": {
      "image/png": "[encoded data removed]",
      "text/plain": [
       "<Figure size 640x480 with 1 Axes>"
      ]
     },
     "metadata": {},
     "output_type": "display_data"
    }
   ],
   "source": [
    "import matplotlib.pyplot as plt\n",
    "\n",
    "x = np.linspace(4, 5, 1000)\n",
    "plt.plot(x, 1 / (x * np.log(5/4)), 'r');"
   ]
  },
  {
   "cell_type": "code",
   "execution_count": 63,
   "id": "8902f081",
   "metadata": {},
   "outputs": [
    {
     "name": "stdout",
     "output_type": "stream",
     "text": [
      "Collecting matplotlib\n",
      "  Using cached matplotlib-3.6.2-cp310-cp310-macosx_11_0_arm64.whl (7.2 MB)\n",
      "Requirement already satisfied: python-dateutil>=2.7 in /opt/homebrew/lib/python3.10/site-packages (from matplotlib) (2.8.2)\n",
      "Requirement already satisfied: packaging>=20.0 in /opt/homebrew/lib/python3.10/site-packages (from matplotlib) (21.3)\n",
      "Collecting pillow>=6.2.0\n",
      "  Using cached Pillow-9.3.0-cp310-cp310-macosx_11_0_arm64.whl (2.9 MB)\n",
      "Collecting cycler>=0.10\n",
      "  Using cached cycler-0.11.0-py3-none-any.whl (6.4 kB)\n",
      "Requirement already satisfied: numpy>=1.19 in /opt/homebrew/lib/python3.10/site-packages (from matplotlib) (1.23.4)\n",
      "Collecting kiwisolver>=1.0.1\n",
      "  Using cached kiwisolver-1.4.4-cp310-cp310-macosx_11_0_arm64.whl (63 kB)\n",
      "Collecting contourpy>=1.0.1\n",
      "  Using cached contourpy-1.0.6-cp310-cp310-macosx_11_0_arm64.whl (225 kB)\n",
      "Requirement already satisfied: pyparsing>=2.2.1 in /opt/homebrew/lib/python3.10/site-packages (from matplotlib) (3.0.9)\n",
      "Collecting fonttools>=4.22.0\n",
      "  Using cached fonttools-4.38.0-py3-none-any.whl (965 kB)\n",
      "Requirement already satisfied: six>=1.5 in /opt/homebrew/lib/python3.10/site-packages (from python-dateutil>=2.7->matplotlib) (1.16.0)\n",
      "Installing collected packages: pillow, kiwisolver, fonttools, cycler, contourpy, matplotlib\n",
      "Successfully installed contourpy-1.0.6 cycler-0.11.0 fonttools-4.38.0 kiwisolver-1.4.4 matplotlib-3.6.2 pillow-9.3.0\n",
      "\n",
      "\u001b[1m[\u001b[0m\u001b[34;49mnotice\u001b[0m\u001b[1;39;49m]\u001b[0m\u001b[39;49m A new release of pip available: \u001b[0m\u001b[31;49m22.3\u001b[0m\u001b[39;49m -> \u001b[0m\u001b[32;49m22.3.1\u001b[0m\n",
      "\u001b[1m[\u001b[0m\u001b[34;49mnotice\u001b[0m\u001b[1;39;49m]\u001b[0m\u001b[39;49m To update, run: \u001b[0m\u001b[32;49mpython3.10 -m pip install --upgrade pip\u001b[0m\n"
     ]
    }
   ],
   "source": [
    "!pip install matplotlib"
   ]
  },
  {
   "cell_type": "code",
   "execution_count": 56,
   "id": "9c1e8259",
   "metadata": {},
   "outputs": [],
   "source": [
    "p.sort()"
   ]
  },
  {
   "cell_type": "code",
   "execution_count": 57,
   "id": "92fc00db",
   "metadata": {},
   "outputs": [
    {
     "data": {
      "text/plain": [
       "array([0.87871317, 0.87871447, 0.87871597, ..., 1.12034731, 1.12034793,\n",
       "       1.1203495 ])"
      ]
     },
     "execution_count": 57,
     "metadata": {},
     "output_type": "execute_result"
    }
   ],
   "source": [
    "p"
   ]
  },
  {
   "cell_type": "code",
   "execution_count": 60,
   "id": "fc925dda",
   "metadata": {},
   "outputs": [
    {
     "data": {
      "text/plain": [
       "0.9850873678061578"
      ]
     },
     "execution_count": 60,
     "metadata": {},
     "output_type": "execute_result"
    }
   ],
   "source": [
    "p[p.shape[0] // 2]"
   ]
  },
  {
   "cell_type": "code",
   "execution_count": null,
   "id": "4245fab8",
   "metadata": {},
   "outputs": [],
   "source": []
  }
 ],
 "metadata": {
  "kernelspec": {
   "display_name": "stats",
   "language": "python",
   "name": "stats"
  },
  "language_info": {
   "codemirror_mode": {
    "name": "ipython",
    "version": 3
   },
   "file_extension": ".py",
   "mimetype": "text/x-python",
   "name": "python",
   "nbconvert_exporter": "python",
   "pygments_lexer": "ipython3",
   "version": "3.9.6"
  }
 },
 "nbformat": 4,
 "nbformat_minor": 5
}
